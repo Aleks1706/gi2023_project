{
 "cells": [
  {
   "cell_type": "code",
   "execution_count": null,
   "id": "6adec737",
   "metadata": {},
   "outputs": [],
   "source": []
  },
  {
   "cell_type": "code",
   "execution_count": 20,
   "id": "453a2ac5",
   "metadata": {},
   "outputs": [],
   "source": [
    "import scanpy as sc\n",
    "import pandas as pd\n",
    "import numpy as np\n",
    "import squidpy as sp\n",
    "import math\n",
    "import warnings\n",
    "import matplotlib.pyplot as plt\n",
    "\n",
    "\n",
    "from sklearn.feature_selection import SelectKBest\n",
    "from sklearn.model_selection import StratifiedKFold\n",
    "from sklearn.preprocessing import StandardScaler\n",
    "from sklearn.linear_model import SGDClassifier\n",
    "\n",
    "\n",
    "warnings.filterwarnings('ignore')"
   ]
  },
  {
   "cell_type": "code",
   "execution_count": 2,
   "id": "9d417824",
   "metadata": {},
   "outputs": [],
   "source": [
    "def read_file(filename):\n",
    "    adata = sc.read_h5ad(filename)\n",
    "\n",
    "    return adata"
   ]
  },
  {
   "cell_type": "code",
   "execution_count": 3,
   "id": "a5d758ae",
   "metadata": {},
   "outputs": [],
   "source": [
    "def preprocess_file(adata):\n",
    "    #get rid of cells with fewer than 200 genes\n",
    "    sc.pp.filter_cells(adata, min_genes=200)\n",
    "    #get rid of genes that are found in fewer than 3 cells\n",
    "    sc.pp.filter_genes(adata, min_cells=3)\n",
    "    #get rid of cells whose annotation is unknown\n",
    "    adata = adata[~adata.obs.annotation.isin(['Unknown'])]\n",
    "    #data normalization\n",
    "    sc.pp.normalize_total(adata, target_sum=1e4)\n",
    "    sc.pp.log1p(adata)\n",
    "    return adata"
   ]
  },
  {
   "cell_type": "code",
   "execution_count": 4,
   "id": "ff6a9cb6",
   "metadata": {},
   "outputs": [],
   "source": [
    "def select_best_features(adata, k_best_value):\n",
    "    feature_selector = SelectKBest(k = k_best_value)\n",
    "    y = adata.obs.annotation\n",
    "    adata.feature_selected = np.zeros((len(adata.obs.annotation),2))\n",
    "    adata.feature_selected[:,0]= adata.obsm['spatial'][:,0]\n",
    "    adata.feature_selected[:,1]= adata.obsm['spatial'][:,1]\n",
    "    \n",
    "    feature_selected = feature_selector.fit_transform(adata.X,y)\n",
    "    adata.feature_selected = np.hstack((adata.feature_selected, feature_selected.toarray() ))\n",
    "    scaler = StandardScaler()\n",
    "    adata.feature_selected = scaler.fit_transform(adata.feature_selected,y)\n",
    "\n",
    "    return adata "
   ]
  },
  {
   "cell_type": "code",
   "execution_count": 5,
   "id": "9013c91e-efc8-4749-a398-4ecab5011bf3",
   "metadata": {},
   "outputs": [],
   "source": [
    "def get_all_predictions(X, y, clf, k):\n",
    "    strtfdKFold = StratifiedKFold(n_splits=k)\n",
    "    kfold = strtfdKFold.split(X, y)\n",
    "    predictions = None\n",
    "\n",
    "    for fold_index, (train, test) in enumerate(kfold):\n",
    "        clf.fit(X[train], y[train])\n",
    "        if predictions is None:\n",
    "            predictions = clf.predict(X)\n",
    "        else:\n",
    "            predictions = np.vstack((predictions, clf.predict(X)))\n",
    "    return predictions"
   ]
  },
  {
   "cell_type": "code",
   "execution_count": 6,
   "id": "54776cf1-8e88-4cad-9c93-3af3a4f3f4c8",
   "metadata": {},
   "outputs": [],
   "source": [
    "def refine_annotations(predictions, y, l):\n",
    "    new_annotations = y.copy()\n",
    "    count_refined = 0\n",
    "    for col_index in range(predictions.shape[1]):\n",
    "        column = predictions[:,col_index].T\n",
    "        count_different = len(column[column != y[col_index]])\n",
    "        if count_different <= l:\n",
    "            continue\n",
    "        count_different_by_class = dict()\n",
    "        for label in column[column != y[col_index]]:\n",
    "            if label in count_different_by_class:\n",
    "                count_different_by_class[label] += 1\n",
    "            else:\n",
    "                count_different_by_class[label] = 1\n",
    "        label_with_max = max(count_different_by_class, key=lambda key: count_different_by_class[key])\n",
    "        max_value = count_different_by_class[label_with_max]\n",
    "        if max_value > l:\n",
    "            #print(col_index, y[col_index], label_with_max)\n",
    "            new_annotations[col_index] = label_with_max\n",
    "            count_refined += 1\n",
    "    return new_annotations, count_refined"
   ]
  },
  {
   "cell_type": "code",
   "execution_count": 23,
   "id": "46c9629e-e559-4659-8d53-21739fec3a32",
   "metadata": {},
   "outputs": [],
   "source": [
    "filename_mouse_embryo = '../Downloads/E9.5_E1S1.MOSTA.h5ad'\n",
    "filename_mouse_brain = '../Downloads/Mouse_brain_cell_bin.h5ad'\n",
    "\n",
    "k_best_features = [10, 20, 50, 100]\n",
    "k_number_of_folds = [3, 5, 7, 10]\n",
    "l_value_percentage = 0.5\n",
    "sgd = SGDClassifier()"
   ]
  },
  {
   "cell_type": "code",
   "execution_count": 15,
   "id": "ffbc2299-446b-4178-b9f7-83617028e810",
   "metadata": {},
   "outputs": [],
   "source": [
    "adata = read_file(filename_mouse_embryo)\n",
    "adata = preprocess_file(adata)"
   ]
  },
  {
   "cell_type": "code",
   "execution_count": 16,
   "id": "54585fe6-6234-4ead-aa41-d177f75c73d7",
   "metadata": {},
   "outputs": [
    {
     "name": "stdout",
     "output_type": "stream",
     "text": [
      "10 3\n",
      "10 5\n",
      "10 7\n",
      "10 10\n",
      "20 3\n",
      "20 5\n",
      "20 7\n",
      "20 10\n",
      "50 3\n",
      "50 5\n",
      "50 7\n",
      "50 10\n",
      "100 3\n",
      "100 5\n",
      "100 7\n",
      "100 10\n",
      "[[10, 3, 2, 604], [10, 5, 2, 1551], [10, 5, 3, 1049], [10, 5, 4, 582], [10, 7, 3, 1635], [10, 7, 4, 1284], [10, 7, 5, 957], [10, 7, 6, 656], [10, 10, 4, 1721], [10, 10, 5, 1500], [10, 10, 6, 1266], [10, 10, 7, 1053], [10, 10, 8, 804], [10, 10, 9, 561], [20, 3, 2, 623], [20, 5, 2, 1446], [20, 5, 3, 1011], [20, 5, 4, 616], [20, 7, 3, 1599], [20, 7, 4, 1240], [20, 7, 5, 928], [20, 7, 6, 613], [20, 10, 4, 1640], [20, 10, 5, 1369], [20, 10, 6, 1176], [20, 10, 7, 964], [20, 10, 8, 762], [20, 10, 9, 532], [50, 3, 2, 331], [50, 5, 2, 1028], [50, 5, 3, 635], [50, 5, 4, 361], [50, 7, 3, 1095], [50, 7, 4, 844], [50, 7, 5, 638], [50, 7, 6, 410], [50, 10, 4, 1192], [50, 10, 5, 1001], [50, 10, 6, 826], [50, 10, 7, 691], [50, 10, 8, 541], [50, 10, 9, 365], [100, 3, 2, 224], [100, 5, 2, 790], [100, 5, 3, 509], [100, 5, 4, 297], [100, 7, 3, 818], [100, 7, 4, 625], [100, 7, 5, 436], [100, 7, 6, 276], [100, 10, 4, 891], [100, 10, 5, 762], [100, 10, 6, 630], [100, 10, 7, 502], [100, 10, 8, 390], [100, 10, 9, 262]]\n"
     ]
    }
   ],
   "source": [
    "results_table = []\n",
    "for number_of_features in k_best_features:\n",
    "    select_best_features(adata, number_of_features)\n",
    "    for number_of_folds in k_number_of_folds:\n",
    "        print(number_of_features, number_of_folds)\n",
    "        predictions = get_all_predictions(adata.feature_selected, adata.obs.annotation, sgd, number_of_folds)\n",
    "        for l in range(math.ceil(l_value_percentage * number_of_folds), number_of_folds):\n",
    "            new_annotations, count_refined = refine_annotations(predictions, adata.obs.annotation, l)\n",
    "            adata.obs['new_ann'] = new_annotations;\n",
    "            adata.uns['new_ann_colors'] = adata.uns['annotation_colors']\n",
    "            #sp.pl.spatial_scatter(adata,shape = None, color=[\"new_ann\",\"annotation\"])\n",
    "            results_table.append([number_of_features, number_of_folds, l, count_refined])\n",
    "print(results_table)\n",
    "            \n",
    "            \n",
    "            \n",
    "            "
   ]
  },
  {
   "cell_type": "code",
   "execution_count": 26,
   "id": "a0a1f91c",
   "metadata": {},
   "outputs": [
    {
     "name": "stdout",
     "output_type": "stream",
     "text": [
      "[[  10    3    2  604]\n",
      " [  10    5    2 1551]\n",
      " [  10    5    3 1049]\n",
      " [  10    5    4  582]\n",
      " [  10    7    3 1635]\n",
      " [  10    7    4 1284]\n",
      " [  10    7    5  957]\n",
      " [  10    7    6  656]\n",
      " [  10   10    4 1721]\n",
      " [  10   10    5 1500]\n",
      " [  10   10    6 1266]\n",
      " [  10   10    7 1053]\n",
      " [  10   10    8  804]\n",
      " [  10   10    9  561]]\n",
      "[[  20    3    2  623]\n",
      " [  20    5    2 1446]\n",
      " [  20    5    3 1011]\n",
      " [  20    5    4  616]\n",
      " [  20    7    3 1599]\n",
      " [  20    7    4 1240]\n",
      " [  20    7    5  928]\n",
      " [  20    7    6  613]\n",
      " [  20   10    4 1640]\n",
      " [  20   10    5 1369]\n",
      " [  20   10    6 1176]\n",
      " [  20   10    7  964]\n",
      " [  20   10    8  762]\n",
      " [  20   10    9  532]]\n",
      "[[  50    3    2  331]\n",
      " [  50    5    2 1028]\n",
      " [  50    5    3  635]\n",
      " [  50    5    4  361]\n",
      " [  50    7    3 1095]\n",
      " [  50    7    4  844]\n",
      " [  50    7    5  638]\n",
      " [  50    7    6  410]\n",
      " [  50   10    4 1192]\n",
      " [  50   10    5 1001]\n",
      " [  50   10    6  826]\n",
      " [  50   10    7  691]\n",
      " [  50   10    8  541]\n",
      " [  50   10    9  365]]\n",
      "[[100   3   2 224]\n",
      " [100   5   2 790]\n",
      " [100   5   3 509]\n",
      " [100   5   4 297]\n",
      " [100   7   3 818]\n",
      " [100   7   4 625]\n",
      " [100   7   5 436]\n",
      " [100   7   6 276]\n",
      " [100  10   4 891]\n",
      " [100  10   5 762]\n",
      " [100  10   6 630]\n",
      " [100  10   7 502]\n",
      " [100  10   8 390]\n",
      " [100  10   9 262]]\n"
     ]
    },
    {
     "data": {
      "image/png": "[encoded data removed]",
      "text/plain": [
       "<Figure size 640x480 with 4 Axes>"
      ]
     },
     "metadata": {},
     "output_type": "display_data"
    }
   ],
   "source": [
    "for number_of_features in k_best_features:\n",
    "    results_table_new = None\n",
    "    for result in results_table:\n",
    "        if result[0] == number_of_features:\n",
    "            if results_table_new is None:\n",
    "                results_table_new = result\n",
    "            else:\n",
    "                results_table_new = np.vstack((results_table_new, result))\n",
    "    print(results_table_new)\n",
    "    ax = plt.axes(projection='3d')\n",
    "    zdata = results_table_new[:, 3]\n",
    "    xdata = results_table_new[1]\n",
    "    ydata = results_table_new[2]\n",
    "    ax.scatter3D(xdata, ydata, zdata, c=zdata, cmap='Greens');"
   ]
  },
  {
   "cell_type": "code",
   "execution_count": null,
   "id": "c6c83d4e",
   "metadata": {},
   "outputs": [],
   "source": []
  },
  {
   "cell_type": "code",
   "execution_count": null,
   "id": "a79e2201",
   "metadata": {},
   "outputs": [],
   "source": []
  },
  {
   "cell_type": "code",
   "execution_count": null,
   "id": "ec76b8f1",
   "metadata": {},
   "outputs": [],
   "source": []
  },
  {
   "cell_type": "code",
   "execution_count": null,
   "id": "0c52ba54",
   "metadata": {},
   "outputs": [],
   "source": []
  },
  {
   "cell_type": "code",
   "execution_count": null,
   "id": "0adf0807",
   "metadata": {},
   "outputs": [],
   "source": []
  },
  {
   "cell_type": "code",
   "execution_count": null,
   "id": "510d77ca",
   "metadata": {},
   "outputs": [],
   "source": []
  },
  {
   "cell_type": "code",
   "execution_count": null,
   "id": "11f8c428",
   "metadata": {},
   "outputs": [],
   "source": []
  },
  {
   "cell_type": "code",
   "execution_count": null,
   "id": "a91319c4",
   "metadata": {},
   "outputs": [],
   "source": []
  },
  {
   "cell_type": "code",
   "execution_count": null,
   "id": "ec01a1ce",
   "metadata": {},
   "outputs": [],
   "source": []
  },
  {
   "cell_type": "code",
   "execution_count": null,
   "id": "2933374b",
   "metadata": {},
   "outputs": [],
   "source": []
  },
  {
   "cell_type": "code",
   "execution_count": null,
   "id": "2e97a066",
   "metadata": {},
   "outputs": [],
   "source": []
  },
  {
   "cell_type": "code",
   "execution_count": null,
   "id": "fadfe731",
   "metadata": {},
   "outputs": [],
   "source": []
  },
  {
   "cell_type": "code",
   "execution_count": null,
   "id": "e4fd52fd",
   "metadata": {},
   "outputs": [],
   "source": []
  },
  {
   "cell_type": "code",
   "execution_count": null,
   "id": "c0db1420",
   "metadata": {},
   "outputs": [],
   "source": []
  }
 ],
 "metadata": {
  "kernelspec": {
   "display_name": "Python 3 (ipykernel)",
   "language": "python",
   "name": "python3"
  },
  "language_info": {
   "codemirror_mode": {
    "name": "ipython",
    "version": 3
   },
   "file_extension": ".py",
   "mimetype": "text/x-python",
   "name": "python",
   "nbconvert_exporter": "python",
   "pygments_lexer": "ipython3",
   "version": "3.10.9"
  }
 },
 "nbformat": 4,
 "nbformat_minor": 5
}
