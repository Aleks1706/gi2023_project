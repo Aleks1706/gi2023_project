{
 "cells": [
  {
   "cell_type": "code",
   "execution_count": 1,
   "id": "453a2ac5",
   "metadata": {},
   "outputs": [],
   "source": [
    "import scanpy as sc\n",
    "import pandas as pd\n",
    "import numpy as np\n",
    "import squidpy as sp\n",
    "import math\n",
    "import warnings\n",
    "import matplotlib.pyplot as plt\n",
    "import random\n",
    "\n",
    "\n",
    "from sklearn.feature_selection import SelectKBest\n",
    "from sklearn.model_selection import StratifiedKFold\n",
    "from sklearn.preprocessing import StandardScaler\n",
    "from sklearn.linear_model import SGDClassifier\n",
    "from mpl_toolkits.mplot3d import Axes3D\n",
    "\n",
    "warnings.filterwarnings('ignore')"
   ]
  },
  {
   "cell_type": "code",
   "execution_count": 2,
   "id": "9d417824",
   "metadata": {},
   "outputs": [],
   "source": [
    "def read_file(filename):\n",
    "    adata = sc.read_h5ad(filename)\n",
    "\n",
    "    return adata"
   ]
  },
  {
   "cell_type": "code",
   "execution_count": 3,
   "id": "a5d758ae",
   "metadata": {},
   "outputs": [],
   "source": [
    "def preprocess_file(adata):\n",
    "    #get rid of cells with fewer than 200 genes\n",
    "    sc.pp.filter_cells(adata, min_genes=200)\n",
    "    #get rid of genes that are found in fewer than 3 cells\n",
    "    sc.pp.filter_genes(adata, min_cells=3)\n",
    "    #get rid of cells whose annotation is unknown\n",
    "    adata = adata[~adata.obs.annotation.isin(['Unknown'])]\n",
    "    #data normalization\n",
    "    sc.pp.normalize_total(adata, target_sum=1e4)\n",
    "    sc.pp.log1p(adata)\n",
    "    return adata"
   ]
  },
  {
   "cell_type": "code",
   "execution_count": 4,
   "id": "ff6a9cb6",
   "metadata": {},
   "outputs": [],
   "source": [
    "def select_best_features(adata, k_best_value):\n",
    "    feature_selector = SelectKBest(k = k_best_value)\n",
    "    y = adata.obs.annotation\n",
    "    adata.feature_selected = np.zeros((len(adata.obs.annotation),2))\n",
    "    adata.feature_selected[:,0]= adata.obsm['spatial'][:,0]\n",
    "    adata.feature_selected[:,1]= adata.obsm['spatial'][:,1]\n",
    "    \n",
    "    feature_selected = feature_selector.fit_transform(adata.X,y)\n",
    "    adata.feature_selected = np.hstack((adata.feature_selected, feature_selected.toarray() ))\n",
    "    scaler = StandardScaler()\n",
    "    adata.feature_selected = scaler.fit_transform(adata.feature_selected,y)\n",
    "\n",
    "    return adata "
   ]
  },
  {
   "cell_type": "code",
   "execution_count": 5,
   "id": "9013c91e-efc8-4749-a398-4ecab5011bf3",
   "metadata": {},
   "outputs": [],
   "source": [
    "def get_all_predictions(X, y, clf, k):\n",
    "    strtfdKFold = StratifiedKFold(n_splits=k)\n",
    "    kfold = strtfdKFold.split(X, y)\n",
    "    predictions = None\n",
    "\n",
    "    for fold_index, (train, test) in enumerate(kfold):\n",
    "        clf.fit(X[train], y[train])\n",
    "        if predictions is None:\n",
    "            predictions = clf.predict(X)\n",
    "        else:\n",
    "            predictions = np.vstack((predictions, clf.predict(X)))\n",
    "    return predictions"
   ]
  },
  {
   "cell_type": "code",
   "execution_count": 6,
   "id": "54776cf1-8e88-4cad-9c93-3af3a4f3f4c8",
   "metadata": {},
   "outputs": [],
   "source": [
    "def refine_annotations(predictions, y, l):\n",
    "    new_annotations = y.copy()\n",
    "    count_refined = 0\n",
    "    for col_index in range(predictions.shape[1]):\n",
    "        column = predictions[:,col_index].T\n",
    "        count_different = len(column[column != y[col_index]])\n",
    "        if count_different <= l:\n",
    "            continue\n",
    "        count_different_by_class = dict()\n",
    "        for label in column[column != y[col_index]]:\n",
    "            if label in count_different_by_class:\n",
    "                count_different_by_class[label] += 1\n",
    "            else:\n",
    "                count_different_by_class[label] = 1\n",
    "        label_with_max = max(count_different_by_class, key=lambda key: count_different_by_class[key])\n",
    "        max_value = count_different_by_class[label_with_max]\n",
    "        if max_value > l:\n",
    "            #print(col_index, y[col_index], label_with_max)\n",
    "            new_annotations[col_index] = label_with_max\n",
    "            count_refined += 1\n",
    "    return new_annotations, count_refined"
   ]
  },
  {
   "cell_type": "code",
   "execution_count": 7,
   "id": "7d0cf94b",
   "metadata": {},
   "outputs": [],
   "source": [
    "def plot_values(results_table):\n",
    "    fig = plt.figure(figsize=(100,100), layout='constrained')\n",
    "\n",
    "    #features\n",
    "    xdata = results_table[:, 0]\n",
    "    #folds\n",
    "    ydata = results_table[:, 1]\n",
    "    #l\n",
    "    zdata = results_table[:, 2]\n",
    "\n",
    "    ann_data_changed = results_table[:, 3].flatten()\n",
    "\n",
    "    ax3d = plt.figure().add_subplot(111,projection = '3d')\n",
    "\n",
    "    ax3d.scatter(xdata, ydata, zdata)\n",
    "\n",
    "    for x, y, z, label in zip(xdata,ydata, zdata, ann_data_changed):\n",
    "        ax3d.text(x,y,z,str(label), fontsize=6)\n",
    "\n",
    "    ax3d.set_xlabel('Features')\n",
    "    ax3d.set_ylabel('Folds')\n",
    "    ax3d.set_zlabel('L')\n",
    "    ax3d.grid(False)\n",
    "\n",
    "    plt.title(\"Number of changed annotations per number of features, k and l\")\n",
    "    return plt"
   ]
  },
  {
   "cell_type": "code",
   "execution_count": 8,
   "id": "de1b8e2b",
   "metadata": {},
   "outputs": [],
   "source": [
    "def fun_image_representation(filename, results_table,new_annotations_table):\n",
    "    for i in range(0,3):\n",
    "        row = random.randint(0,len(results_table))\n",
    "        table_row = results_table[row]\n",
    "        new_ann_row= new_annotations_table[row]\n",
    "        adata.obs['new_annotation'] = new_ann_row;\n",
    "        adata.uns['new_annotation_colors'] = adata.uns['annotation_colors']\n",
    "        text =\"For {} with features={}, folds = {} and l={},\\n the number of features changed is {}\".format(filename, table_row[0], table_row[1],table_row[2],table_row[3])\n",
    "        sp.pl.spatial_scatter(adata,shape = None, color=[\"new_annotation\",\"annotation\"], title =text)"
   ]
  },
  {
   "cell_type": "code",
   "execution_count": 9,
   "id": "f2c2807e",
   "metadata": {},
   "outputs": [],
   "source": [
    "def train_models(adata):\n",
    "    results_table = None\n",
    "    new_annotations_table = None\n",
    "    for number_of_features in k_best_features:\n",
    "        select_best_features(adata, number_of_features)\n",
    "        print(\"**started {} feature **\".format(number_of_features))\n",
    "        for number_of_folds in k_number_of_folds:\n",
    "\n",
    "            predictions = get_all_predictions(adata.feature_selected, adata.obs.annotation, sgd, number_of_folds)\n",
    "            for l in range(math.ceil(l_value_percentage * number_of_folds), number_of_folds):\n",
    "                new_annotations, count_refined = refine_annotations(predictions, adata.obs.annotation, l)\n",
    "                result = np.array([number_of_features, number_of_folds, l, count_refined])\n",
    "                if results_table is None:\n",
    "                    results_table = result\n",
    "                else:\n",
    "                    results_table = np.vstack((results_table, result))\n",
    "                if new_annotations_table is None:\n",
    "                    new_annotations_table = new_annotations\n",
    "                else:\n",
    "                    new_annotations_table = np.vstack((new_annotations_table, new_annotations))\n",
    "    print(\"**done**\")\n",
    "    return results_table, new_annotations_table"
   ]
  },
  {
   "cell_type": "code",
   "execution_count": 10,
   "id": "46c9629e-e559-4659-8d53-21739fec3a32",
   "metadata": {},
   "outputs": [],
   "source": [
    "filename_mouse_embryo = '../E9.5_E1S1.MOSTA.h5ad'\n",
    "filename_mouse_brain = '../Mouse_brain_cell_bin.h5ad'\n",
    "\n",
    "k_best_features = [10, 20, 50, 100]\n",
    "k_number_of_folds = [3, 5, 7, 10]\n",
    "l_value_percentage = 0.5\n",
    "sgd = SGDClassifier()"
   ]
  },
  {
   "cell_type": "code",
   "execution_count": 11,
   "id": "fbb6c5f9",
   "metadata": {},
   "outputs": [],
   "source": [
    "adata = read_file(filename_mouse_embryo)\n",
    "adata = preprocess_file(adata)\n"
   ]
  },
  {
   "cell_type": "code",
   "execution_count": 13,
   "id": "54585fe6-6234-4ead-aa41-d177f75c73d7",
   "metadata": {},
   "outputs": [
    {
     "name": "stdout",
     "output_type": "stream",
     "text": [
      "**started 10 feature **\n",
      "**started 20 feature **\n",
      "**started 50 feature **\n",
      "**started 100 feature **\n",
      "**done**\n"
     ]
    }
   ],
   "source": [
    "embryo_results, embryo_annotations= train_models(adata)"
   ]
  },
  {
   "cell_type": "code",
   "execution_count": null,
   "id": "96593be1",
   "metadata": {},
   "outputs": [],
   "source": [
    "plt = plot_values(results_table)\n",
    "fun_image_representation(filename_mouse_embryo, embryo_results,embryo_annotations)"
   ]
  }
 ],
 "metadata": {
  "kernelspec": {
   "display_name": "Python 3 (ipykernel)",
   "language": "python",
   "name": "python3"
  },
  "language_info": {
   "codemirror_mode": {
    "name": "ipython",
    "version": 3
   },
   "file_extension": ".py",
   "mimetype": "text/x-python",
   "name": "python",
   "nbconvert_exporter": "python",
   "pygments_lexer": "ipython3",
   "version": "3.10.6"
  }
 },
 "nbformat": 4,
 "nbformat_minor": 5
}
