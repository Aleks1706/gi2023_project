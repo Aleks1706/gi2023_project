{
 "cells": [
  {
   "cell_type": "code",
   "execution_count": null,
   "id": "6adec737",
   "metadata": {},
   "outputs": [],
   "source": []
  },
  {
   "cell_type": "code",
   "execution_count": 1,
   "id": "453a2ac5",
   "metadata": {},
   "outputs": [],
   "source": [
    "import scanpy as sc\n",
    "import pandas as pd\n",
    "import numpy as np\n",
    "import squidpy as sp\n",
    "\n",
    "from sklearn.feature_selection import SelectKBest\n",
    "from sklearn.model_selection import StratifiedKFold\n",
    "from sklearn.preprocessing import StandardScaler"
   ]
  },
  {
   "cell_type": "code",
   "execution_count": 2,
   "id": "c53d4e3c",
   "metadata": {},
   "outputs": [],
   "source": [
    "filename_mouse_embryo = '../Downloads/E9.5_E1S1.MOSTA.h5ad'\n",
    "filename_mouse_brain = '../Downloads/Mouse_brain_cell_bin.h5ad'\n",
    "\n",
    "K_best_features = [10, 20, 50, 100, 200, 500, 1000, 2000]"
   ]
  },
  {
   "cell_type": "code",
   "execution_count": 3,
   "id": "9d417824",
   "metadata": {},
   "outputs": [],
   "source": [
    "def read_file(filename):\n",
    "    adata = sc.read_h5ad(filename)\n",
    "\n",
    "    return adata"
   ]
  },
  {
   "cell_type": "code",
   "execution_count": 4,
   "id": "a5d758ae",
   "metadata": {},
   "outputs": [],
   "source": [
    "def preprocess_file(adata):\n",
    "    #get rid of cells with fewer than 200 genes\n",
    "    sc.pp.filter_cells(adata, min_genes=200)\n",
    "    #get rid of genes that are found in fewer than 3 cells\n",
    "    sc.pp.filter_genes(adata, min_cells=3)\n",
    "    #get rid of cells whose annotation is unknown\n",
    "    adata = adata[~adata.obs.annotation.isin(['Unknown'])]\n",
    "    #data normalization\n",
    "    sc.pp.normalize_total(adata, target_sum=1e4)\n",
    "    sc.pp.log1p(adata)\n",
    "    return adata"
   ]
  },
  {
   "cell_type": "code",
   "execution_count": 5,
   "id": "ff6a9cb6",
   "metadata": {},
   "outputs": [],
   "source": [
    "def select_best_features(adata, k_best_value):\n",
    "    feature_selector = SelectKBest(k = k_best_value)\n",
    "    y = adata.obs.annotation\n",
    "    adata.feature_selected = np.zeros((len(adata.obs.annotation),2))\n",
    "    adata.feature_selected[:,0]= adata.obsm['spatial'][:,0]\n",
    "    adata.feature_selected[:,1]= adata.obsm['spatial'][:,1]\n",
    "    \n",
    "    feature_selected = feature_selector.fit_transform(adata.X,y)\n",
    "    adata.feature_selected = np.hstack((adata.feature_selected, feature_selected.toarray() ))\n",
    "    scaler = StandardScaler()\n",
    "    adata.feature_selected = scaler.fit_transform(adata.feature_selected,y)\n",
    "\n",
    "    return adata "
   ]
  },
  {
   "cell_type": "code",
   "execution_count": 7,
   "id": "cc0cf4b7",
   "metadata": {},
   "outputs": [
    {
     "name": "stderr",
     "output_type": "stream",
     "text": [
      "/home/aleksa/anaconda3/lib/python3.10/site-packages/scanpy/preprocessing/_normalization.py:170: UserWarning: Received a view of an AnnData. Making a copy.\n",
      "  view_to_actual(adata)\n"
     ]
    }
   ],
   "source": [
    "adata = read_file(filename_mouse_embryo)\n",
    "adata = preprocess_file(adata)\n"
   ]
  },
  {
   "cell_type": "code",
   "execution_count": 8,
   "id": "7e9c4915",
   "metadata": {},
   "outputs": [
    {
     "data": {
      "text/plain": [
       "(5870, 23014)"
      ]
     },
     "execution_count": 8,
     "metadata": {},
     "output_type": "execute_result"
    }
   ],
   "source": [
    "adata.obsm['spatial'][:,0].shape\n",
    "adata.shape"
   ]
  },
  {
   "cell_type": "code",
   "execution_count": 9,
   "id": "385bbf88",
   "metadata": {},
   "outputs": [
    {
     "data": {
      "text/plain": [
       "(5870, 102)"
      ]
     },
     "execution_count": 9,
     "metadata": {},
     "output_type": "execute_result"
    }
   ],
   "source": [
    "select_best_features(adata, 100)\n",
    "adata.feature_selected.shape"
   ]
  },
  {
   "cell_type": "code",
   "execution_count": null,
   "id": "f56fb935",
   "metadata": {},
   "outputs": [],
   "source": [
    "adata.feature_selected[0,:]"
   ]
  },
  {
   "cell_type": "code",
   "execution_count": 17,
   "id": "c76c3098",
   "metadata": {},
   "outputs": [
    {
     "name": "stdout",
     "output_type": "stream",
     "text": [
      "Fold 0:\n",
      "(5283,)\n",
      "(5283, 102)\n",
      "(587,)\n",
      "Fold 1:\n",
      "(5283,)\n",
      "(5283, 102)\n",
      "(587,)\n",
      "Fold 2:\n",
      "(5283,)\n",
      "(5283, 102)\n",
      "(587,)\n",
      "Fold 3:\n",
      "(5283,)\n",
      "(5283, 102)\n",
      "(587,)\n",
      "Fold 4:\n",
      "(5283,)\n",
      "(5283, 102)\n",
      "(587,)\n",
      "Fold 5:\n",
      "(5283,)\n",
      "(5283, 102)\n",
      "(587,)\n",
      "Fold 6:\n",
      "(5283,)\n",
      "(5283, 102)\n",
      "(587,)\n",
      "Fold 7:\n",
      "(5283,)\n",
      "(5283, 102)\n",
      "(587,)\n",
      "Fold 8:\n",
      "(5283,)\n",
      "(5283, 102)\n",
      "(587,)\n",
      "Fold 9:\n",
      "(5283,)\n",
      "(5283, 102)\n",
      "(587,)\n"
     ]
    }
   ],
   "source": [
    "from sklearn.model_selection import StratifiedKFold\n",
    "skf = StratifiedKFold(n_splits=10)\n",
    "skf.get_n_splits(adata.feature_selected, adata.obs.annotation)\n",
    "for i, (train_index, test_index) in enumerate(skf.split(adata.feature_selected, adata.obs.annotation)):\n",
    "    print(f\"Fold {i}:\")\n",
    "    #print(f\"  Train: index={train_index}\")\n",
    "    print(train_index.shape)\n",
    "    test_X = adata.feature_selected[train_index]\n",
    "    print(test_X.shape)\n",
    "    print(test_index.shape)\n",
    "    #print(f\"  Test:  index={test_index}\")\n"
   ]
  },
  {
   "cell_type": "code",
   "execution_count": 21,
   "id": "653871b4",
   "metadata": {},
   "outputs": [],
   "source": [
    "from sklearn.linear_model import SGDClassifier\n",
    "\n",
    "sgd = SGDClassifier()\n"
   ]
  },
  {
   "cell_type": "code",
   "execution_count": 37,
   "id": "9013c91e-efc8-4749-a398-4ecab5011bf3",
   "metadata": {},
   "outputs": [],
   "source": [
    "def get_all_predictions(X, y, clf, k):\n",
    "    strtfdKFold = StratifiedKFold(n_splits=k)\n",
    "    kfold = strtfdKFold.split(X, y)\n",
    "    predictions = None\n",
    "\n",
    "    for fold_index, (train, test) in enumerate(kfold):\n",
    "        clf.fit(X[train], y[train])\n",
    "        if predictions is None:\n",
    "            predictions = clf.predict(X)\n",
    "        else:\n",
    "            predictions = np.vstack((predictions, clf.predict(X)))\n",
    "    return predictions"
   ]
  },
  {
   "cell_type": "code",
   "execution_count": 54,
   "id": "54776cf1-8e88-4cad-9c93-3af3a4f3f4c8",
   "metadata": {},
   "outputs": [],
   "source": [
    "def func(predictions, y, l):\n",
    "    new_annotations = y.copy()\n",
    "    for col_index in range(predictions.shape[1]):\n",
    "        column = predictions[:,col_index].T\n",
    "        count_different = len(column[column != y[col_index]])\n",
    "        if count_different <= l:\n",
    "            continue\n",
    "        count_different_by_class = dict()\n",
    "        for label in column[column != y[col_index]]:\n",
    "            if label in count_different_by_class:\n",
    "                count_different_by_class[label] += 1\n",
    "            else:\n",
    "                count_different_by_class[label] = 1\n",
    "        label_with_max = max(count_different_by_class, key=lambda key: count_different_by_class[key])\n",
    "        max_value = count_different_by_class[label_with_max]\n",
    "        if max_value > l:\n",
    "            print(col_index, y[col_index], label_with_max)\n",
    "            new_annotations[col_index] = label_with_max\n",
    "    return new_annotations"
   ]
  },
  {
   "cell_type": "code",
   "execution_count": 52,
   "id": "9323c33e-8582-4f41-b23b-6260450fa21c",
   "metadata": {},
   "outputs": [
    {
     "name": "stdout",
     "output_type": "stream",
     "text": [
      "2 Cavity Mesenchyme\n"
     ]
    }
   ],
   "source": [
    "func(result, adata.obs.annotation, 2)"
   ]
  },
  {
   "cell_type": "code",
   "execution_count": 53,
   "id": "682ab8dc-15a6-4dce-a497-a213bafbf5af",
   "metadata": {},
   "outputs": [
    {
     "data": {
      "text/plain": [
       "'Cavity'"
      ]
     },
     "execution_count": 53,
     "metadata": {},
     "output_type": "execute_result"
    }
   ],
   "source": [
    "adata.obs.annotation[2]"
   ]
  },
  {
   "cell_type": "code",
   "execution_count": 43,
   "id": "55de3856-5560-46b5-adc3-5bbc10ba552d",
   "metadata": {},
   "outputs": [
    {
     "data": {
      "text/plain": [
       "array(['Mesenchyme', 'Mesenchyme', 'Mesenchyme', 'Mesenchyme',\n",
       "       'Mesenchyme', 'Mesenchyme', 'Mesenchyme', 'Mesenchyme',\n",
       "       'Mesenchyme', 'Mesenchyme'], dtype='<U17')"
      ]
     },
     "execution_count": 43,
     "metadata": {},
     "output_type": "execute_result"
    }
   ],
   "source": [
    "result[:,0].T"
   ]
  },
  {
   "cell_type": "code",
   "execution_count": 31,
   "id": "895a8288-3d36-43b3-845e-71bbe2a30ce0",
   "metadata": {},
   "outputs": [],
   "source": [
    "result = get_all_predictions(adata.feature_selected, adata.obs.annotation, sgd, 10)"
   ]
  },
  {
   "cell_type": "code",
   "execution_count": 32,
   "id": "0bc4bc12-28bb-4a61-b4db-bf93894d6c50",
   "metadata": {},
   "outputs": [
    {
     "data": {
      "text/plain": [
       "(10, 5870)"
      ]
     },
     "execution_count": 32,
     "metadata": {},
     "output_type": "execute_result"
    }
   ],
   "source": [
    "result.shape"
   ]
  },
  {
   "cell_type": "code",
   "execution_count": 33,
   "id": "f76dba1c-3bd8-49ec-8ac4-6de7b198523e",
   "metadata": {},
   "outputs": [
    {
     "data": {
      "text/plain": [
       "array([['Mesenchyme', 'Cavity', 'Mesenchyme', ..., 'Cavity', 'Cavity',\n",
       "        'Cavity'],\n",
       "       ['Mesenchyme', 'Cavity', 'Mesenchyme', ..., 'Cavity', 'Cavity',\n",
       "        'Cavity'],\n",
       "       ['Mesenchyme', 'Cavity', 'Cavity', ..., 'Cavity', 'Cavity',\n",
       "        'Cavity'],\n",
       "       ...,\n",
       "       ['Mesenchyme', 'Cavity', 'Cavity', ..., 'Cavity', 'Cavity',\n",
       "        'Cavity'],\n",
       "       ['Mesenchyme', 'Cavity', 'Cavity', ..., 'Cavity', 'Cavity',\n",
       "        'Cavity'],\n",
       "       ['Mesenchyme', 'Cavity', 'Mesenchyme', ..., 'Cavity', 'Cavity',\n",
       "        'Cavity']], dtype='<U17')"
      ]
     },
     "execution_count": 33,
     "metadata": {},
     "output_type": "execute_result"
    }
   ],
   "source": [
    "result"
   ]
  },
  {
   "cell_type": "code",
   "execution_count": null,
   "id": "f302ecb7",
   "metadata": {},
   "outputs": [],
   "source": [
    "from sklearn.model_selection import cross_val_predict\n",
    "\n",
    "cv = cross_val_predict(sgd, adata.feature_selected, adata.obs.annotation, cv=10)\n"
   ]
  },
  {
   "cell_type": "code",
   "execution_count": null,
   "id": "b2c91931",
   "metadata": {},
   "outputs": [],
   "source": [
    "adata.obs['new_ann'] =cv;\n",
    "adata.uns['new_ann_colors']=adata.uns['annotation_colors']\n",
    "sp.pl.spatial_scatter(adata,shape=None, color=[\"new_ann\",\"annotation\"])"
   ]
  },
  {
   "cell_type": "code",
   "execution_count": null,
   "id": "e56f3f43",
   "metadata": {},
   "outputs": [],
   "source": [
    "adata.obs['new_ann']\n",
    "cv"
   ]
  },
  {
   "cell_type": "code",
   "execution_count": null,
   "id": "bad440bf",
   "metadata": {},
   "outputs": [],
   "source": [
    "adata.obs.annotation.shape"
   ]
  },
  {
   "cell_type": "code",
   "execution_count": null,
   "id": "2df004b1",
   "metadata": {},
   "outputs": [],
   "source": [
    "adata.obs.annotation.unique"
   ]
  },
  {
   "cell_type": "code",
   "execution_count": null,
   "id": "c8ce7a91",
   "metadata": {},
   "outputs": [],
   "source": [
    "adata.obsm"
   ]
  },
  {
   "cell_type": "code",
   "execution_count": null,
   "id": "ca3e26c0",
   "metadata": {},
   "outputs": [],
   "source": []
  },
  {
   "cell_type": "code",
   "execution_count": null,
   "id": "a0a1f91c",
   "metadata": {},
   "outputs": [],
   "source": []
  },
  {
   "cell_type": "code",
   "execution_count": null,
   "id": "c6c83d4e",
   "metadata": {},
   "outputs": [],
   "source": []
  },
  {
   "cell_type": "code",
   "execution_count": null,
   "id": "a79e2201",
   "metadata": {},
   "outputs": [],
   "source": []
  },
  {
   "cell_type": "code",
   "execution_count": null,
   "id": "ec76b8f1",
   "metadata": {},
   "outputs": [],
   "source": []
  },
  {
   "cell_type": "code",
   "execution_count": null,
   "id": "0c52ba54",
   "metadata": {},
   "outputs": [],
   "source": []
  },
  {
   "cell_type": "code",
   "execution_count": null,
   "id": "0adf0807",
   "metadata": {},
   "outputs": [],
   "source": []
  },
  {
   "cell_type": "code",
   "execution_count": null,
   "id": "510d77ca",
   "metadata": {},
   "outputs": [],
   "source": []
  },
  {
   "cell_type": "code",
   "execution_count": null,
   "id": "11f8c428",
   "metadata": {},
   "outputs": [],
   "source": []
  },
  {
   "cell_type": "code",
   "execution_count": null,
   "id": "a91319c4",
   "metadata": {},
   "outputs": [],
   "source": []
  },
  {
   "cell_type": "code",
   "execution_count": null,
   "id": "ec01a1ce",
   "metadata": {},
   "outputs": [],
   "source": []
  },
  {
   "cell_type": "code",
   "execution_count": null,
   "id": "2933374b",
   "metadata": {},
   "outputs": [],
   "source": []
  },
  {
   "cell_type": "code",
   "execution_count": null,
   "id": "2e97a066",
   "metadata": {},
   "outputs": [],
   "source": []
  },
  {
   "cell_type": "code",
   "execution_count": null,
   "id": "fadfe731",
   "metadata": {},
   "outputs": [],
   "source": []
  },
  {
   "cell_type": "code",
   "execution_count": null,
   "id": "e4fd52fd",
   "metadata": {},
   "outputs": [],
   "source": []
  },
  {
   "cell_type": "code",
   "execution_count": null,
   "id": "c0db1420",
   "metadata": {},
   "outputs": [],
   "source": []
  }
 ],
 "metadata": {
  "kernelspec": {
   "display_name": "Python 3 (ipykernel)",
   "language": "python",
   "name": "python3"
  },
  "language_info": {
   "codemirror_mode": {
    "name": "ipython",
    "version": 3
   },
   "file_extension": ".py",
   "mimetype": "text/x-python",
   "name": "python",
   "nbconvert_exporter": "python",
   "pygments_lexer": "ipython3",
   "version": "3.10.9"
  }
 },
 "nbformat": 4,
 "nbformat_minor": 5
}
